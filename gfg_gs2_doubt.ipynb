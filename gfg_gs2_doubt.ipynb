{
 "cells": [
  {
   "cell_type": "markdown",
   "metadata": {},
   "source": [
    "Egg drop problem"
   ]
  },
  {
   "cell_type": "code",
   "execution_count": 3,
   "metadata": {},
   "outputs": [],
   "source": [
    "# Function to get minimum number of trials  \n",
    "# needed in worst case with n eggs and k floors  \n",
    "import sys\n",
    "def eggDrop(n, k): \n",
    "  \n",
    "    # If there are no floors, then no trials \n",
    "    # needed. OR if there is one floor, one \n",
    "    # trial needed. \n",
    "    if (k == 1 or k == 0): \n",
    "        return k \n",
    "  \n",
    "    # We need k trials for one egg  \n",
    "    # and k floors \n",
    "    if (n == 1): \n",
    "        return k \n",
    "  \n",
    "    min = sys.maxsize \n",
    "  \n",
    "    # Consider all droppings from 1st  \n",
    "    # floor to kth floor and return  \n",
    "    # the minimum of these values plus 1. \n",
    "    for x in range(1, k + 1): \n",
    "  \n",
    "        res = max(eggDrop(n - 1, x - 1),  \n",
    "                  eggDrop(n, k - x)) \n",
    "        if (res < min): \n",
    "            min = res \n",
    "  \n",
    "    return min + 1"
   ]
  },
  {
   "cell_type": "code",
   "execution_count": 4,
   "metadata": {},
   "outputs": [
    {
     "name": "stdout",
     "output_type": "stream",
     "text": [
      "('Minimum number of trials in worst case with', 2, 'eggs and', 30, 'floors is', 8)\n"
     ]
    }
   ],
   "source": [
    "# Driver Code \n",
    "if __name__ == \"__main__\": \n",
    "  \n",
    "    n = 2\n",
    "    k = 30\n",
    "    \n",
    "    print(\"Minimum number of trials in worst case with\", \n",
    "           n, \"eggs and\", k, \"floors is\", eggDrop(n, k)) \n",
    "  "
   ]
  },
  {
   "cell_type": "code",
   "execution_count": null,
   "metadata": {},
   "outputs": [],
   "source": []
  }
 ],
 "metadata": {
  "kernelspec": {
   "display_name": "Python 3",
   "language": "python",
   "name": "python3"
  },
  "language_info": {
   "codemirror_mode": {
    "name": "ipython",
    "version": 2
   },
   "file_extension": ".py",
   "mimetype": "text/x-python",
   "name": "python",
   "nbconvert_exporter": "python",
   "pygments_lexer": "ipython2",
   "version": "2.7.14"
  }
 },
 "nbformat": 4,
 "nbformat_minor": 2
}
