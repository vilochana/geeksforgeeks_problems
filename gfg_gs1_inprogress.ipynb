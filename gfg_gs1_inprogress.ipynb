{
 "cells": [
  {
   "cell_type": "code",
   "execution_count": null,
   "metadata": {},
   "outputs": [],
   "source": [
    "s = str(input(\"Enter a string\"))"
   ]
  },
  {
   "cell_type": "code",
   "execution_count": 4,
   "metadata": {},
   "outputs": [],
   "source": [
    "import time\n",
    "# s = \"WeWewewrwewewewewewewggggftknn\"\n",
    "# string = \"WeWewewrwewewewewewewggggftknn\"\n",
    "s = \"bcvsyxhzbxhvagvxhxhahxahxabjoijsjqsak\"\n",
    "string = \"bcvsyxhzbxhvagvxhxhahxahxabjoijsjqsak\""
   ]
  },
  {
   "cell_type": "markdown",
   "metadata": {},
   "source": [
    "## My solution"
   ]
  },
  {
   "cell_type": "code",
   "execution_count": 5,
   "metadata": {},
   "outputs": [
    {
     "name": "stdout",
     "output_type": "stream",
     "text": [
      "bcvsyxhzbxhvagvxhxhahxahxabjoijsjqsak\n",
      "bcvsyxhzbxhvagvxhxhahxahxabjoijsjqsak\n",
      "37\n",
      "('First non-repeating character is', 'c')\n",
      "('time taken', 0.0048940181732177734)\n"
     ]
    }
   ],
   "source": [
    "t1 = time.time()\n",
    "print(s)\n",
    "s = str.lower(s)\n",
    "print(s)\n",
    "l = len(s)\n",
    "print(l)\n",
    "for i in range(l-1):\n",
    "    count =s.count(s[i],0,l)\n",
    "    if count == 1:\n",
    "        print(\"First non-repeating character is\",s[i])\n",
    "        break \n",
    "t2 = time.time()\n",
    "print(\"time taken\", t2-t1)"
   ]
  },
  {
   "cell_type": "markdown",
   "metadata": {},
   "source": [
    "## Geeksforgeeks soln 1"
   ]
  },
  {
   "cell_type": "code",
   "execution_count": 6,
   "metadata": {},
   "outputs": [
    {
     "name": "stdout",
     "output_type": "stream",
     "text": [
      "Either all characters are repeating or string is empty\n",
      "('time taken', 0.0005080699920654297)\n"
     ]
    }
   ],
   "source": [
    "t3 = time.time()\n",
    "# Python program to print the first non-repeating character \n",
    "NO_OF_CHARS = 256\n",
    "  \n",
    "# Returns an array of size 256 containg count \n",
    "# of characters in the passed char array \n",
    "def getCharCountArray(string): \n",
    "    count = [0] * NO_OF_CHARS \n",
    "    for i in string: \n",
    "        count[ord(i)]+=1\n",
    "    return count \n",
    "  \n",
    "# The function returns index of first non-repeating \n",
    "# character in a string. If all characters are repeating \n",
    "# then returns -1 \n",
    "def firstNonRepeating(string): \n",
    "    count = getCharCountArray(string) \n",
    "    index = -1\n",
    "    k = 0\n",
    "  \n",
    "    for i in string: \n",
    "        if count[ord(i)] == 1: \n",
    "            index = k \n",
    "            break\n",
    "        k += 1\n",
    "  \n",
    "    return index \n",
    "\n",
    "# Driver program to test above function \n",
    "#string = \"geeksforgeeks\"\n",
    "index = firstNonRepeating(string) \n",
    "if index==1: \n",
    "    print \"Either all characters are repeating or string is empty\"\n",
    "else: \n",
    "    print \"First non-repeating character is \" + string[index] \n",
    "    \n",
    "t4 = time.time()\n",
    "print(\"time taken\", t4-t3)"
   ]
  },
  {
   "cell_type": "code",
   "execution_count": 11,
   "metadata": {},
   "outputs": [
    {
     "name": "stdout",
     "output_type": "stream",
     "text": [
      "[0, 0, 0, 0, 0, 0, 0, 0, 0, 0, 0, 0, 0, 0, 0, 0, 0, 0, 0, 0, 0, 0, 0, 0, 0, 0, 0, 0, 0, 0, 0, 0, 0, 0, 0, 0, 0, 0, 0, 0, 0, 0, 0, 0, 0, 0, 0, 0, 0, 0, 0, 0, 0, 0, 0, 0, 0, 0, 0, 0, 0, 0, 0, 0, 0, 0, 0, 0, 0, 0, 0, 0, 0, 0, 0, 0, 0, 0, 0, 0, 0, 0, 0, 0, 0, 0, 0, 0, 0, 0, 0, 0, 0, 0, 0, 0, 0, 0, 0, 0, 0, 0, 0, 0, 0, 0, 0, 0, 0, 0, 0, 0, 0, 0, 0, 0, 0, 0, 0, 0, 0, 0, 0, 0, 0, 0, 0, 0, 0, 0, 0, 0, 0, 0, 0, 0, 0, 0, 0, 0, 0, 0, 0, 0, 0, 0, 0, 0, 0, 0, 0, 0, 0, 0, 0, 0, 0, 0, 0, 0, 0, 0, 0, 0, 0, 0, 0, 0, 0, 0, 0, 0, 0, 0, 0, 0, 0, 0, 0, 0, 0, 0, 0, 0, 0, 0, 0, 0, 0, 0, 0, 0, 0, 0, 0, 0, 0, 0, 0, 0, 0, 0, 0, 0, 0, 0, 0, 0, 0, 0, 0, 0, 0, 0, 0, 0, 0, 0, 0, 0, 0, 0, 0, 0, 0, 0, 0, 0, 0, 0, 0, 0, 0, 0, 0, 0, 0, 0, 0, 0, 0, 0, 0, 0, 0, 0, 0, 0, 0, 0, 0, 0, 0, 0, 0, 0]\n",
      "[0, 0, 0, 0, 0, 0, 0, 0, 0, 0, 0, 0, 0, 0, 0, 0, 0, 0, 0, 0, 0, 0, 0, 0, 0, 0, 0, 0, 0, 0, 0, 0, 0, 0, 0, 0, 0, 0, 0, 0, 0, 0, 0, 0, 0, 0, 0, 0, 0, 0, 0, 0, 0, 0, 0, 0, 0, 0, 0, 0, 0, 0, 0, 0, 0, 0, 0, 0, 0, 0, 0, 0, 0, 0, 0, 0, 0, 0, 0, 0, 0, 0, 0, 0, 0, 0, 0, 0, 0, 0, 0, 0, 0, 0, 0, 0, 0, 0, 0, 0, 0, 4, 1, 2, 0, 0, 0, 2, 0, 0, 0, 1, 0, 0, 1, 2, 0, 0, 0, 0, 0, 0, 0, 0, 0, 0, 0, 0, 0, 0, 0, 0, 0, 0, 0, 0, 0, 0, 0, 0, 0, 0, 0, 0, 0, 0, 0, 0, 0, 0, 0, 0, 0, 0, 0, 0, 0, 0, 0, 0, 0, 0, 0, 0, 0, 0, 0, 0, 0, 0, 0, 0, 0, 0, 0, 0, 0, 0, 0, 0, 0, 0, 0, 0, 0, 0, 0, 0, 0, 0, 0, 0, 0, 0, 0, 0, 0, 0, 0, 0, 0, 0, 0, 0, 0, 0, 0, 0, 0, 0, 0, 0, 0, 0, 0, 0, 0, 0, 0, 0, 0, 0, 0, 0, 0, 0, 0, 0, 0, 0, 0, 0, 0, 0, 0, 0, 0, 0, 0, 0, 0, 0, 0, 0, 0, 0, 0, 0, 0, 0, 0, 0, 0, 0, 0, 0]\n"
     ]
    }
   ],
   "source": [
    "NO_OF_CHARS = 256\n",
    "count = [0] * NO_OF_CHARS \n",
    "print(count)\n",
    "for i in string: \n",
    "    count[ord(i)]+=1\n",
    "print(count)"
   ]
  },
  {
   "cell_type": "code",
   "execution_count": null,
   "metadata": {},
   "outputs": [],
   "source": []
  },
  {
   "cell_type": "code",
   "execution_count": 42,
   "metadata": {},
   "outputs": [
    {
     "name": "stdout",
     "output_type": "stream",
     "text": [
      "{'a': 5, 'c': 1, 'b': 3, 'g': 1, 'i': 1, 'h': 6, 'k': 1, 'j': 3, 'o': 1, 'q': 1, 's': 3, 'v': 3, 'y': 1, 'x': 6, 'z': 1}\n"
     ]
    }
   ],
   "source": [
    "#construct an array of only the number present in the string\n",
    "# and not of 256 character long\n",
    "count ={}\n",
    "for i in string:\n",
    "    if i not in count:\n",
    "        count[i]=1\n",
    "    else:\n",
    "        count[i]+=1\n",
    "    #print(count)\n",
    "print(count)\n"
   ]
  },
  {
   "cell_type": "code",
   "execution_count": 48,
   "metadata": {},
   "outputs": [
    {
     "data": {
      "text/plain": [
       "[5, 1, 3, 1, 1, 6, 1, 3, 1, 1, 3, 3, 1, 6, 1]"
      ]
     },
     "execution_count": 48,
     "metadata": {},
     "output_type": "execute_result"
    }
   ],
   "source": [
    "count.values()"
   ]
  },
  {
   "cell_type": "code",
   "execution_count": 44,
   "metadata": {},
   "outputs": [
    {
     "data": {
      "text/plain": [
       "{'a': 5,\n",
       " 'b': 3,\n",
       " 'c': 1,\n",
       " 'g': 1,\n",
       " 'h': 6,\n",
       " 'i': 1,\n",
       " 'j': 3,\n",
       " 'k': 1,\n",
       " 'o': 1,\n",
       " 'q': 1,\n",
       " 's': 3,\n",
       " 'v': 3,\n",
       " 'x': 6,\n",
       " 'y': 1,\n",
       " 'z': 1}"
      ]
     },
     "execution_count": 44,
     "metadata": {},
     "output_type": "execute_result"
    }
   ],
   "source": []
  },
  {
   "cell_type": "code",
   "execution_count": null,
   "metadata": {},
   "outputs": [],
   "source": []
  }
 ],
 "metadata": {
  "kernelspec": {
   "display_name": "Python 3",
   "language": "python",
   "name": "python3"
  },
  "language_info": {
   "codemirror_mode": {
    "name": "ipython",
    "version": 2
   },
   "file_extension": ".py",
   "mimetype": "text/x-python",
   "name": "python",
   "nbconvert_exporter": "python",
   "pygments_lexer": "ipython2",
   "version": "2.7.14"
  }
 },
 "nbformat": 4,
 "nbformat_minor": 2
}
