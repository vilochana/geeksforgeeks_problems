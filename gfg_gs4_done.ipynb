{
 "cells": [
  {
   "cell_type": "markdown",
   "metadata": {},
   "source": [
    "Sort an array in wave form"
   ]
  },
  {
   "cell_type": "code",
   "execution_count": 1,
   "metadata": {},
   "outputs": [],
   "source": [
    "import numpy as np\n",
    "arr = [6,7,87,8,4,3,56,2]"
   ]
  },
  {
   "cell_type": "markdown",
   "metadata": {},
   "source": [
    "Simple soln"
   ]
  },
  {
   "cell_type": "code",
   "execution_count": 14,
   "metadata": {},
   "outputs": [
    {
     "name": "stdout",
     "output_type": "stream",
     "text": [
      "('sorted array', array([ 2,  3,  4,  6,  7,  8, 56, 87]))\n",
      "('sorted in wave form', array([ 3,  2,  6,  4,  8,  7, 87, 56]))\n"
     ]
    }
   ],
   "source": [
    "arr_new = np.sort(arr)\n",
    "print(\"sorted array\", arr_new)\n",
    "i=0\n",
    "while i <(len(arr_new)-1):\n",
    "    temp = arr_new[i]\n",
    "    arr_new[i]=arr_new[i+1]\n",
    "    arr_new[i+1] = temp\n",
    "    i+=2\n",
    "print(\"sorted in wave form\", arr_new)"
   ]
  },
  {
   "cell_type": "markdown",
   "metadata": {},
   "source": [
    "Efficient soln"
   ]
  },
  {
   "cell_type": "code",
   "execution_count": 14,
   "metadata": {},
   "outputs": [
    {
     "name": "stdout",
     "output_type": "stream",
     "text": [
      "('sorted in wave form?', [7, 6, 87, 8, 4, 3, 56, 2])\n"
     ]
    }
   ],
   "source": [
    "arr_ = arr\n",
    "i=0\n",
    "while i < (len(arr_)-2):\n",
    "    if arr_[i]<arr_[i+1]:\n",
    "        temp = arr_[i]\n",
    "        arr_[i]=arr_[i+1]\n",
    "        arr_[i+1] = temp\n",
    "    i+=2\n",
    "print(\"sorted in wave form?\",arr_)\n",
    "    \n",
    "    "
   ]
  },
  {
   "cell_type": "code",
   "execution_count": null,
   "metadata": {},
   "outputs": [],
   "source": []
  }
 ],
 "metadata": {
  "kernelspec": {
   "display_name": "Python 3",
   "language": "python",
   "name": "python3"
  },
  "language_info": {
   "codemirror_mode": {
    "name": "ipython",
    "version": 2
   },
   "file_extension": ".py",
   "mimetype": "text/x-python",
   "name": "python",
   "nbconvert_exporter": "python",
   "pygments_lexer": "ipython2",
   "version": "2.7.14"
  }
 },
 "nbformat": 4,
 "nbformat_minor": 2
}
