{
 "cells": [
  {
   "cell_type": "markdown",
   "metadata": {},
   "source": [
    "\n",
    "<a href=\"https://www.geeksforgeeks.org/ugly-numbers/\" style=\"color:SeaGreen; font-size:30px\"><b>Ugly number problem</b></a>"
   ]
  },
  {
   "cell_type": "code",
   "execution_count": 26,
   "metadata": {},
   "outputs": [
    {
     "data": {
      "text/plain": [
       "'number = 15\\narr =[0]*number\\nprint(len(arr))\\ni=j=k=1\\nn=1\\narr[0]= 1\\nwhile n <= number-1:\\n    arr[n]= min(2*i,3*j,5*k)\\n    if arr[n] == 2*i:\\n        i+=1\\n    if arr[n] == 3*j:\\n        j+=1\\n    if arr[n] == 5*k:\\n        k+=1\\n    n+=1\\n    \\nprint(\"{}th ugly number is {}\".format(n,arr[n-1]))\\n'"
      ]
     },
     "execution_count": 26,
     "metadata": {},
     "output_type": "execute_result"
    }
   ],
   "source": [
    "#wrongly interpretted the problem\n",
    "\"\"\"number = 15\n",
    "arr =[0]*number\n",
    "print(len(arr))\n",
    "i=j=k=1\n",
    "n=1\n",
    "arr[0]= 1\n",
    "while n <= number-1:\n",
    "    arr[n]= min(2*i,3*j,5*k)\n",
    "    if arr[n] == 2*i:\n",
    "        i+=1\n",
    "    if arr[n] == 3*j:\n",
    "        j+=1\n",
    "    if arr[n] == 5*k:\n",
    "        k+=1\n",
    "    n+=1\n",
    "    \n",
    "print(\"{}th ugly number is {}\".format(n,arr[n-1]))\n",
    "\"\"\""
   ]
  },
  {
   "cell_type": "markdown",
   "metadata": {},
   "source": [
    "### Correct code"
   ]
  },
  {
   "cell_type": "code",
   "execution_count": 15,
   "metadata": {},
   "outputs": [],
   "source": [
    "number = 150"
   ]
  },
  {
   "cell_type": "code",
   "execution_count": 16,
   "metadata": {},
   "outputs": [
    {
     "name": "stdout",
     "output_type": "stream",
     "text": [
      "150\n",
      "150th ugly number is 5832\n"
     ]
    }
   ],
   "source": [
    "arr =[0]*number\n",
    "print(len(arr))\n",
    "i=j=k=0\n",
    "n=1\n",
    "arr[0]= 1\n",
    "'''arr[1]=2\n",
    "arr[2]=3\n",
    "arr[3]=5'''\n",
    "while n <= number-1:\n",
    "    arr[n]= min(2*arr[i],3*arr[j],5*arr[k])\n",
    "    if arr[n] == 2*arr[i]:\n",
    "        i+=1\n",
    "    if arr[n] == 3*arr[j]:\n",
    "        j+=1\n",
    "    if arr[n] == 5*arr[k]:\n",
    "        k+=1\n",
    "    n+=1\n",
    "    \n",
    "print(\"{}th ugly number is {}\".format(n,arr[n-1]))\n"
   ]
  },
  {
   "cell_type": "markdown",
   "metadata": {},
   "source": [
    "Copied from gfg::::\n"
   ]
  },
  {
   "cell_type": "code",
   "execution_count": 27,
   "metadata": {},
   "outputs": [],
   "source": []
  }
 ],
 "metadata": {
  "kernelspec": {
   "display_name": "Python 3",
   "language": "python",
   "name": "python3"
  },
  "language_info": {
   "codemirror_mode": {
    "name": "ipython",
    "version": 3
   },
   "file_extension": ".py",
   "mimetype": "text/x-python",
   "name": "python",
   "nbconvert_exporter": "python",
   "pygments_lexer": "ipython3",
   "version": "3.5.2"
  }
 },
 "nbformat": 4,
 "nbformat_minor": 2
}
