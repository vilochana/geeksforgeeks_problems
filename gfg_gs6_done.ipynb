{
 "cells": [
  {
   "cell_type": "markdown",
   "metadata": {},
   "source": [
    "<a href=\"https://www.geeksforgeeks.org/reverse-words-in-a-given-string/\" style=\"font-size:30px; color:tomato\"><b>Reverse words in a string<b/></a>"
   ]
  },
  {
   "cell_type": "markdown",
   "metadata": {},
   "source": [
    "My First attempt\n"
   ]
  },
  {
   "cell_type": "code",
   "execution_count": 35,
   "metadata": {},
   "outputs": [],
   "source": [
    "s = \" I like this color\""
   ]
  },
  {
   "cell_type": "code",
   "execution_count": 37,
   "metadata": {},
   "outputs": [
    {
     "name": "stdout",
     "output_type": "stream",
     "text": [
      "The reverse of \" I like this color\" is \"color this like I \"\n"
     ]
    }
   ],
   "source": [
    "arr_s=s.split(\" \")\n",
    "arr_n=[]\n",
    "for i in range(len(arr_s)):\n",
    "     arr_n.append(arr_s[len(arr_s)-1-i])\n",
    "#     OR\n",
    "#     arr_n.insert(0,arr_s[i])\n",
    "\n",
    "#OR\n",
    "'''for word in arr_s:\n",
    "    arr_n.insert(0,word)'''\n",
    "s_n = \" \".join(arr_n)\n",
    "print(\"The reverse of \\\"{}\\\" is \\\"{}\\\"\".format(s,s_n))"
   ]
  },
  {
   "cell_type": "code",
   "execution_count": null,
   "metadata": {},
   "outputs": [],
   "source": []
  }
 ],
 "metadata": {
  "kernelspec": {
   "display_name": "Python 3",
   "language": "python",
   "name": "python3"
  },
  "language_info": {
   "codemirror_mode": {
    "name": "ipython",
    "version": 3
   },
   "file_extension": ".py",
   "mimetype": "text/x-python",
   "name": "python",
   "nbconvert_exporter": "python",
   "pygments_lexer": "ipython3",
   "version": "3.5.2"
  }
 },
 "nbformat": 4,
 "nbformat_minor": 2
}
