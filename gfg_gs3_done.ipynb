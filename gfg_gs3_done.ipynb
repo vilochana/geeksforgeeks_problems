{
 "cells": [
  {
   "cell_type": "code",
   "execution_count": 61,
   "metadata": {},
   "outputs": [],
   "source": [
    "import numpy as np"
   ]
  },
  {
   "cell_type": "code",
   "execution_count": 64,
   "metadata": {},
   "outputs": [],
   "source": [
    "arr1 = [2,3,4,5,6,9]\n",
    "arr2 =[9,2,6,3,5,4]\n",
    "arr3= [2,5,6,8,9,6]"
   ]
  },
  {
   "cell_type": "code",
   "execution_count": 65,
   "metadata": {},
   "outputs": [
    {
     "name": "stdout",
     "output_type": "stream",
     "text": [
      "equal\n"
     ]
    }
   ],
   "source": [
    "bool_ = True\n",
    "if len(arr1) != len(arr2):\n",
    "    print(\"not equal\")\n",
    "    bool_= False\n",
    "else:\n",
    "    arr1 = np.sort(arr1)\n",
    "    arr2 = np.sort(arr2)\n",
    "    for i in range(len(arr1)):\n",
    "        if arr1[i]!= arr2[i]:\n",
    "            bool_= False\n",
    "            print(\"not equal\")\n",
    "            break\n",
    "            \n",
    "            \n",
    "if(bool_):\n",
    "    print(\"equal\")\n",
    "            "
   ]
  },
  {
   "cell_type": "code",
   "execution_count": 54,
   "metadata": {},
   "outputs": [
    {
     "name": "stdout",
     "output_type": "stream",
     "text": [
      "{2: 1, 3: 1, 4: 1, 5: 1, 6: 1, 9: 1}\n",
      "{2: 1, 3: 1, 4: 1, 5: 1, 6: 1, 9: 1}\n"
     ]
    }
   ],
   "source": [
    "comp1 = {}\n",
    "for i in arr1:\n",
    "    if i not in comp1:\n",
    "        comp1[i]= 1\n",
    "    else:\n",
    "        comp1[i]+=1\n",
    "print(comp1)\n",
    "\n",
    "comp2 = {}\n",
    "for i in arr2:\n",
    "    if i not in comp2:\n",
    "        comp2[i]= 1\n",
    "    else:\n",
    "        comp2[i]+=1\n",
    "print(comp2)"
   ]
  },
  {
   "cell_type": "code",
   "execution_count": 68,
   "metadata": {},
   "outputs": [
    {
     "name": "stdout",
     "output_type": "stream",
     "text": [
      "True\n"
     ]
    }
   ],
   "source": [
    "bool_ = True\n",
    "for i in comp1:\n",
    "    if i not in comp2:\n",
    "        bool_ = False\n",
    "        break\n",
    "    else:\n",
    "        if comp1[i] !=comp2[i]:\n",
    "            bool_ = False\n",
    "            break\n",
    "print(bool_)"
   ]
  },
  {
   "cell_type": "code",
   "execution_count": null,
   "metadata": {},
   "outputs": [],
   "source": []
  }
 ],
 "metadata": {
  "kernelspec": {
   "display_name": "Python 3",
   "language": "python",
   "name": "python3"
  },
  "language_info": {
   "codemirror_mode": {
    "name": "ipython",
    "version": 2
   },
   "file_extension": ".py",
   "mimetype": "text/x-python",
   "name": "python",
   "nbconvert_exporter": "python",
   "pygments_lexer": "ipython2",
   "version": "2.7.14"
  }
 },
 "nbformat": 4,
 "nbformat_minor": 2
}
